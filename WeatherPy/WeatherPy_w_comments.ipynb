{
 "cells": [
  {
   "cell_type": "markdown",
   "metadata": {},
   "source": [
    "## WeatherPy"
   ]
  },
  {
   "cell_type": "markdown",
   "metadata": {},
   "source": [
    "**Note**\n",
    "\n",
    "- Instructions have been included for each segment. You do not have to follow them exactly, but they are included to help you think through the steps."
   ]
  },
  {
   "cell_type": "code",
   "execution_count": 1,
   "metadata": {},
   "outputs": [],
   "source": [
    "#import dependencies and setup\n",
    "import matplotlib.pyplot as plt\n",
    "import pandas as pd\n",
    "import numpy as np\n",
    "import requests\n",
    "import time\n",
    "from scipy.stats import linregress\n",
    "\n",
    "#import API key\n",
    "from api_keys import weather_api_key\n",
    "\n",
    "#import citipy to determine city based on latitude and longitude\n",
    "from citipy import citipy\n",
    "\n",
    "#set range of latitudes and longitudes\n",
    "lat_range = (-90, 90)\n",
    "lng_range = (-180, 180)"
   ]
  },
  {
   "cell_type": "markdown",
   "metadata": {},
   "source": [
    "### Generate Cities List"
   ]
  },
  {
   "cell_type": "code",
   "execution_count": 2,
   "metadata": {},
   "outputs": [
    {
     "data": {
      "text/plain": [
       "605"
      ]
     },
     "execution_count": 2,
     "metadata": {},
     "output_type": "execute_result"
    }
   ],
   "source": [
    "#create lists for holding lat_lngs and cities\n",
    "lat_lngs = []\n",
    "cities = []\n",
    "\n",
    "#create set of random lat and lng combinations\n",
    "lats = np.random.uniform(lat_range[0], lat_range[1], size=1500)\n",
    "lngs = np.random.uniform(lng_range[0], lng_range[1], size=1500)\n",
    "lat_lngs = zip(lats, lngs)\n",
    "\n",
    "#identify nearest city for each lat, lng combination\n",
    "for lat_lng in lat_lngs:\n",
    "    city = citipy.nearest_city(lat_lng[0], lat_lng[1]).city_name\n",
    "    \n",
    "    #if the city is unique, then add it to a our cities list\n",
    "    if city not in cities:\n",
    "        cities.append(city)\n",
    "\n",
    "#print the city count to confirm sufficient count\n",
    "len(cities)"
   ]
  },
  {
   "cell_type": "markdown",
   "metadata": {},
   "source": [
    "### Perform API Calls\n",
    "\n",
    "- Perform a weather check on each city using a series of successive API calls.\n",
    "- Include a print log of each city as it'sbeing processed (with the city number and city name)."
   ]
  },
  {
   "cell_type": "code",
   "execution_count": 3,
   "metadata": {},
   "outputs": [
    {
     "name": "stdout",
     "output_type": "stream",
     "text": [
      "---------------------------------------\n",
      "Beginning Data Retrieval\n",
      "---------------------------------------\n",
      "Processing Record 1 of Set 1 | hobart\n",
      "City not found. Skipping to next...\n",
      "Processing Record 2 of Set 1 | albany\n",
      "Processing Record 3 of Set 1 | puerto leguizamo\n",
      "Processing Record 4 of Set 1 | mar del plata\n",
      "Processing Record 5 of Set 1 | yellowknife\n",
      "Processing Record 6 of Set 1 | poya\n",
      "Processing Record 7 of Set 1 | rikitea\n",
      "City not found. Skipping to next...\n",
      "Processing Record 8 of Set 1 | vaini\n",
      "Processing Record 9 of Set 1 | ketchikan\n",
      "Processing Record 10 of Set 1 | castro\n",
      "Processing Record 11 of Set 1 | hilo\n",
      "Processing Record 12 of Set 1 | bluff\n",
      "Processing Record 13 of Set 1 | jamestown\n",
      "Processing Record 14 of Set 1 | birjand\n",
      "Processing Record 15 of Set 1 | nuevo imperial\n",
      "Processing Record 16 of Set 1 | rocky mountain house\n",
      "Processing Record 17 of Set 1 | saint george\n",
      "Processing Record 18 of Set 1 | khatanga\n",
      "City not found. Skipping to next...\n",
      "Processing Record 19 of Set 1 | atuona\n",
      "Processing Record 20 of Set 1 | lebu\n",
      "Processing Record 21 of Set 1 | roros\n",
      "Processing Record 22 of Set 1 | upernavik\n",
      "Processing Record 23 of Set 1 | pemangkat\n",
      "Processing Record 24 of Set 1 | ushuaia\n",
      "City not found. Skipping to next...\n",
      "Processing Record 25 of Set 1 | bose\n",
      "Processing Record 26 of Set 1 | sao gabriel da cachoeira\n",
      "Processing Record 27 of Set 1 | mehran\n",
      "Processing Record 28 of Set 1 | kahului\n",
      "Processing Record 29 of Set 1 | constitucion\n",
      "Processing Record 30 of Set 1 | punta arenas\n",
      "Processing Record 31 of Set 1 | bredasdorp\n",
      "Processing Record 32 of Set 1 | puerto ayora\n",
      "Processing Record 33 of Set 1 | ancud\n",
      "Processing Record 34 of Set 1 | new norfolk\n",
      "Processing Record 35 of Set 1 | clyde river\n",
      "Processing Record 36 of Set 1 | kaitangata\n",
      "Processing Record 37 of Set 1 | airai\n",
      "Processing Record 38 of Set 1 | oriximina\n",
      "Processing Record 39 of Set 1 | chokurdakh\n",
      "Processing Record 40 of Set 1 | barrow\n",
      "Processing Record 41 of Set 1 | lubumbashi\n",
      "Processing Record 42 of Set 1 | salamanca\n",
      "Processing Record 43 of Set 1 | port elizabeth\n",
      "Processing Record 44 of Set 1 | uray\n",
      "Processing Record 45 of Set 1 | nikolskoye\n",
      "Processing Record 46 of Set 1 | portland\n",
      "Processing Record 47 of Set 1 | dikson\n",
      "Processing Record 48 of Set 1 | kodiak\n",
      "Processing Record 49 of Set 1 | cabo san lucas\n",
      "Processing Record 50 of Set 1 | karasburg\n",
      "Processing Record 1 of Set 2 | san quintin\n",
      "Processing Record 2 of Set 2 | labuhan\n",
      "Processing Record 3 of Set 2 | high level\n",
      "Processing Record 4 of Set 2 | piet retief\n",
      "Processing Record 5 of Set 2 | east london\n",
      "Processing Record 6 of Set 2 | mataura\n",
      "City not found. Skipping to next...\n",
      "Processing Record 7 of Set 2 | sirajganj\n",
      "Processing Record 8 of Set 2 | lipari\n",
      "Processing Record 9 of Set 2 | tuatapere\n",
      "Processing Record 10 of Set 2 | hermanus\n",
      "Processing Record 11 of Set 2 | union city\n",
      "Processing Record 12 of Set 2 | port alfred\n",
      "Processing Record 13 of Set 2 | busselton\n",
      "Processing Record 14 of Set 2 | avarua\n",
      "Processing Record 15 of Set 2 | inirida\n",
      "City not found. Skipping to next...\n",
      "Processing Record 16 of Set 2 | kalabo\n",
      "Processing Record 17 of Set 2 | hofn\n",
      "City not found. Skipping to next...\n",
      "Processing Record 18 of Set 2 | fort smith\n",
      "Processing Record 19 of Set 2 | cape town\n",
      "Processing Record 20 of Set 2 | saint-philippe\n",
      "City not found. Skipping to next...\n",
      "Processing Record 21 of Set 2 | maturin\n",
      "City not found. Skipping to next...\n",
      "Processing Record 22 of Set 2 | grenaa\n",
      "Processing Record 23 of Set 2 | fortuna\n",
      "City not found. Skipping to next...\n",
      "City not found. Skipping to next...\n",
      "City not found. Skipping to next...\n",
      "Processing Record 24 of Set 2 | aklavik\n",
      "Processing Record 25 of Set 2 | grand gaube\n",
      "Processing Record 26 of Set 2 | pouso alegre\n",
      "Processing Record 27 of Set 2 | rio grande\n",
      "Processing Record 28 of Set 2 | gerede\n",
      "Processing Record 29 of Set 2 | ilulissat\n",
      "Processing Record 30 of Set 2 | anadyr\n",
      "Processing Record 31 of Set 2 | tasiilaq\n",
      "Processing Record 32 of Set 2 | butaritari\n",
      "Processing Record 33 of Set 2 | bengkulu\n",
      "City not found. Skipping to next...\n",
      "Processing Record 34 of Set 2 | bangassou\n",
      "Processing Record 35 of Set 2 | lake city\n",
      "Processing Record 36 of Set 2 | kozhevnikovo\n",
      "Processing Record 37 of Set 2 | suez\n",
      "Processing Record 38 of Set 2 | whitehorse\n",
      "Processing Record 39 of Set 2 | bolekhiv\n",
      "City not found. Skipping to next...\n",
      "Processing Record 40 of Set 2 | kapaa\n",
      "Processing Record 41 of Set 2 | hasaki\n",
      "Processing Record 42 of Set 2 | lakselv\n",
      "Processing Record 43 of Set 2 | kavaratti\n",
      "Processing Record 44 of Set 2 | qaqortoq\n",
      "Processing Record 45 of Set 2 | leningradskiy\n",
      "City not found. Skipping to next...\n",
      "Processing Record 46 of Set 2 | bambous virieux\n",
      "Processing Record 47 of Set 2 | ribeira brava\n",
      "Processing Record 48 of Set 2 | puerto del rosario\n",
      "Processing Record 49 of Set 2 | guerrero negro\n",
      "Processing Record 50 of Set 2 | novooleksiyivka\n",
      "City not found. Skipping to next...\n",
      "Processing Record 1 of Set 3 | troitskoye\n",
      "Processing Record 2 of Set 3 | vanimo\n",
      "Processing Record 3 of Set 3 | narsaq\n",
      "Processing Record 4 of Set 3 | severo-kurilsk\n",
      "Processing Record 5 of Set 3 | mae chan\n",
      "Processing Record 6 of Set 3 | rudbar\n",
      "Processing Record 7 of Set 3 | klaksvik\n",
      "Processing Record 8 of Set 3 | margate\n",
      "Processing Record 9 of Set 3 | puerto narino\n",
      "Processing Record 10 of Set 3 | cayenne\n",
      "Processing Record 11 of Set 3 | banda aceh\n",
      "Processing Record 12 of Set 3 | kualakapuas\n",
      "Processing Record 13 of Set 3 | ostrovnoy\n",
      "Processing Record 14 of Set 3 | tura\n",
      "Processing Record 15 of Set 3 | wewak\n",
      "Processing Record 16 of Set 3 | sao filipe\n",
      "Processing Record 17 of Set 3 | bethel\n",
      "Processing Record 18 of Set 3 | ponta do sol\n",
      "Processing Record 19 of Set 3 | jamame\n",
      "Processing Record 20 of Set 3 | batagay-alyta\n",
      "Processing Record 21 of Set 3 | tuktoyaktuk\n",
      "Processing Record 22 of Set 3 | bubaque\n",
      "Processing Record 23 of Set 3 | srednekolymsk\n",
      "Processing Record 24 of Set 3 | gat\n",
      "Processing Record 25 of Set 3 | esperance\n",
      "Processing Record 26 of Set 3 | belur\n",
      "Processing Record 27 of Set 3 | bethanien\n",
      "City not found. Skipping to next...\n",
      "Processing Record 28 of Set 3 | salalah\n",
      "Processing Record 29 of Set 3 | qasigiannguit\n",
      "Processing Record 30 of Set 3 | hithadhoo\n",
      "Processing Record 31 of Set 3 | rocha\n",
      "City not found. Skipping to next...\n",
      "Processing Record 32 of Set 3 | eirunepe\n",
      "Processing Record 33 of Set 3 | luanda\n",
      "City not found. Skipping to next...\n",
      "Processing Record 34 of Set 3 | salta\n",
      "Processing Record 35 of Set 3 | gwadar\n",
      "Processing Record 36 of Set 3 | georgetown\n",
      "Processing Record 37 of Set 3 | cherskiy\n",
      "Processing Record 38 of Set 3 | penhold\n",
      "Processing Record 39 of Set 3 | patacamaya\n",
      "Processing Record 40 of Set 3 | macamic\n",
      "Processing Record 41 of Set 3 | juruti\n",
      "Processing Record 42 of Set 3 | bathsheba\n",
      "Processing Record 43 of Set 3 | curuca\n",
      "Processing Record 44 of Set 3 | necochea\n",
      "Processing Record 45 of Set 3 | shahr-e babak\n",
      "Processing Record 46 of Set 3 | port lincoln\n",
      "Processing Record 47 of Set 3 | carnarvon\n",
      "Processing Record 48 of Set 3 | matata\n",
      "Processing Record 49 of Set 3 | tilichiki\n",
      "Processing Record 50 of Set 3 | constancia\n",
      "City not found. Skipping to next...\n",
      "Processing Record 1 of Set 4 | broken hill\n",
      "Processing Record 2 of Set 4 | ukiah\n",
      "Processing Record 3 of Set 4 | dicabisagan\n",
      "Processing Record 4 of Set 4 | jish\n",
      "Processing Record 5 of Set 4 | presidencia roque saenz pena\n",
      "Processing Record 6 of Set 4 | caravelas\n",
      "Processing Record 7 of Set 4 | stornoway\n",
      "Processing Record 8 of Set 4 | goderich\n",
      "Processing Record 9 of Set 4 | kuruman\n",
      "Processing Record 10 of Set 4 | mahebourg\n",
      "Processing Record 11 of Set 4 | meulaboh\n",
      "Processing Record 12 of Set 4 | maltahohe\n",
      "Processing Record 13 of Set 4 | massaguet\n",
      "City not found. Skipping to next...\n",
      "Processing Record 14 of Set 4 | vestmanna\n",
      "Processing Record 15 of Set 4 | ribeira grande\n",
      "Processing Record 16 of Set 4 | kargasok\n",
      "Processing Record 17 of Set 4 | najran\n",
      "Processing Record 18 of Set 4 | dubbo\n",
      "Processing Record 19 of Set 4 | maniitsoq\n",
      "Processing Record 20 of Set 4 | norman wells\n",
      "Processing Record 21 of Set 4 | qaanaaq\n",
      "Processing Record 22 of Set 4 | tiassale\n",
      "Processing Record 23 of Set 4 | minden\n",
      "Processing Record 24 of Set 4 | nelson bay\n",
      "Processing Record 25 of Set 4 | barguzin\n",
      "Processing Record 26 of Set 4 | daru\n",
      "Processing Record 27 of Set 4 | los llanos de aridane\n"
     ]
    },
    {
     "name": "stdout",
     "output_type": "stream",
     "text": [
      "Processing Record 28 of Set 4 | touros\n",
      "Processing Record 29 of Set 4 | chapais\n",
      "Processing Record 30 of Set 4 | saldanha\n",
      "City not found. Skipping to next...\n",
      "City not found. Skipping to next...\n",
      "Processing Record 31 of Set 4 | pevek\n",
      "Processing Record 32 of Set 4 | antofagasta\n",
      "Processing Record 33 of Set 4 | namatanai\n",
      "Processing Record 34 of Set 4 | biak\n",
      "Processing Record 35 of Set 4 | mayo\n",
      "Processing Record 36 of Set 4 | zuenoula\n",
      "Processing Record 37 of Set 4 | turbat\n",
      "Processing Record 38 of Set 4 | cockburn town\n",
      "Processing Record 39 of Set 4 | tautira\n",
      "Processing Record 40 of Set 4 | provideniya\n",
      "Processing Record 41 of Set 4 | synya\n",
      "Processing Record 42 of Set 4 | chambas\n",
      "Processing Record 43 of Set 4 | bodden town\n",
      "Processing Record 44 of Set 4 | grindavik\n",
      "Processing Record 45 of Set 4 | kavieng\n",
      "Processing Record 46 of Set 4 | haines junction\n",
      "Processing Record 47 of Set 4 | latung\n",
      "Processing Record 48 of Set 4 | port hardy\n",
      "Processing Record 49 of Set 4 | griffith\n",
      "Processing Record 50 of Set 4 | beringovskiy\n",
      "Processing Record 1 of Set 5 | asau\n",
      "City not found. Skipping to next...\n",
      "Processing Record 2 of Set 5 | mareeba\n",
      "Processing Record 3 of Set 5 | dali\n",
      "Processing Record 4 of Set 5 | riyadh\n",
      "Processing Record 5 of Set 5 | port hedland\n",
      "Processing Record 6 of Set 5 | aksarka\n",
      "Processing Record 7 of Set 5 | iquitos\n",
      "Processing Record 8 of Set 5 | bilibino\n",
      "Processing Record 9 of Set 5 | bonfim\n",
      "Processing Record 10 of Set 5 | tahta\n",
      "City not found. Skipping to next...\n",
      "Processing Record 11 of Set 5 | batagay\n",
      "Processing Record 12 of Set 5 | torbay\n",
      "Processing Record 13 of Set 5 | saint-pierre\n",
      "Processing Record 14 of Set 5 | indianola\n",
      "Processing Record 15 of Set 5 | xalpatlahuac\n",
      "Processing Record 16 of Set 5 | alofi\n",
      "Processing Record 17 of Set 5 | riberalta\n",
      "Processing Record 18 of Set 5 | bafia\n",
      "Processing Record 19 of Set 5 | agudos\n",
      "Processing Record 20 of Set 5 | nicoya\n",
      "Processing Record 21 of Set 5 | faanui\n",
      "Processing Record 22 of Set 5 | moron\n",
      "Processing Record 23 of Set 5 | kysyl-syr\n",
      "Processing Record 24 of Set 5 | leshukonskoye\n",
      "Processing Record 25 of Set 5 | te anau\n",
      "Processing Record 26 of Set 5 | longyearbyen\n",
      "Processing Record 27 of Set 5 | nanortalik\n",
      "Processing Record 28 of Set 5 | cortez\n",
      "Processing Record 29 of Set 5 | vostok\n",
      "City not found. Skipping to next...\n",
      "Processing Record 30 of Set 5 | karratha\n",
      "Processing Record 31 of Set 5 | eufaula\n",
      "Processing Record 32 of Set 5 | zyryanka\n",
      "Processing Record 33 of Set 5 | sept-iles\n",
      "Processing Record 34 of Set 5 | ballina\n",
      "Processing Record 35 of Set 5 | lavrentiya\n",
      "Processing Record 36 of Set 5 | sherlovaya gora\n",
      "Processing Record 37 of Set 5 | kokstad\n",
      "Processing Record 38 of Set 5 | saint-joseph\n",
      "Processing Record 39 of Set 5 | meadow lake\n",
      "City not found. Skipping to next...\n",
      "Processing Record 40 of Set 5 | padang\n",
      "Processing Record 41 of Set 5 | zemio\n",
      "Processing Record 42 of Set 5 | kangundo\n",
      "Processing Record 43 of Set 5 | lorengau\n",
      "Processing Record 44 of Set 5 | cabedelo\n",
      "Processing Record 45 of Set 5 | maningrida\n",
      "City not found. Skipping to next...\n",
      "Processing Record 46 of Set 5 | ahipara\n",
      "Processing Record 47 of Set 5 | honiara\n",
      "Processing Record 48 of Set 5 | barcelos\n",
      "Processing Record 49 of Set 5 | helong\n",
      "Processing Record 50 of Set 5 | ekibastuz\n",
      "City not found. Skipping to next...\n",
      "Processing Record 1 of Set 6 | azul\n",
      "Processing Record 2 of Set 6 | jining\n",
      "Processing Record 3 of Set 6 | rassvet\n",
      "Processing Record 4 of Set 6 | birao\n",
      "Processing Record 5 of Set 6 | husavik\n",
      "Processing Record 6 of Set 6 | chuy\n",
      "Processing Record 7 of Set 6 | korla\n",
      "Processing Record 8 of Set 6 | tiksi\n",
      "Processing Record 9 of Set 6 | marsa matruh\n",
      "Processing Record 10 of Set 6 | amazar\n",
      "Processing Record 11 of Set 6 | overyata\n",
      "Processing Record 12 of Set 6 | gainesville\n",
      "Processing Record 13 of Set 6 | puro\n",
      "Processing Record 14 of Set 6 | sao joao da barra\n",
      "Processing Record 15 of Set 6 | vyshneve\n",
      "Processing Record 16 of Set 6 | paamiut\n",
      "Processing Record 17 of Set 6 | chingirlau\n",
      "Processing Record 18 of Set 6 | talnakh\n",
      "Processing Record 19 of Set 6 | el sauzal\n",
      "Processing Record 20 of Set 6 | cape canaveral\n",
      "Processing Record 21 of Set 6 | port blair\n",
      "Processing Record 22 of Set 6 | the valley\n",
      "Processing Record 23 of Set 6 | sao paulo de olivenca\n",
      "Processing Record 24 of Set 6 | grand-lahou\n",
      "City not found. Skipping to next...\n",
      "Processing Record 25 of Set 6 | geraldton\n",
      "Processing Record 26 of Set 6 | warmbad\n",
      "Processing Record 27 of Set 6 | atambua\n",
      "Processing Record 28 of Set 6 | opuwo\n",
      "Processing Record 29 of Set 6 | sedkyrkeshch\n",
      "Processing Record 30 of Set 6 | cosautlan\n",
      "Processing Record 31 of Set 6 | poltavka\n",
      "Processing Record 32 of Set 6 | merrill\n",
      "Processing Record 33 of Set 6 | taksimo\n",
      "Processing Record 34 of Set 6 | emba\n",
      "City not found. Skipping to next...\n",
      "Processing Record 35 of Set 6 | banyuwangi\n",
      "Processing Record 36 of Set 6 | cidreira\n",
      "Processing Record 37 of Set 6 | mahon\n",
      "City not found. Skipping to next...\n",
      "Processing Record 38 of Set 6 | arraial do cabo\n",
      "Processing Record 39 of Set 6 | tiznit\n",
      "Processing Record 40 of Set 6 | sretensk\n",
      "Processing Record 41 of Set 6 | liuhe\n",
      "Processing Record 42 of Set 6 | luderitz\n",
      "Processing Record 43 of Set 6 | saint-paul\n",
      "Processing Record 44 of Set 6 | balabac\n",
      "Processing Record 45 of Set 6 | lata\n",
      "City not found. Skipping to next...\n",
      "Processing Record 46 of Set 6 | sakakah\n",
      "Processing Record 47 of Set 6 | thompson\n",
      "Processing Record 48 of Set 6 | valparaiso\n",
      "City not found. Skipping to next...\n",
      "Processing Record 49 of Set 6 | la crosse\n",
      "Processing Record 50 of Set 6 | brae\n",
      "Processing Record 1 of Set 7 | pokhara\n",
      "Processing Record 2 of Set 7 | dongobesh\n",
      "Processing Record 3 of Set 7 | kununurra\n",
      "City not found. Skipping to next...\n",
      "Processing Record 4 of Set 7 | akdepe\n",
      "Processing Record 5 of Set 7 | sambava\n",
      "Processing Record 6 of Set 7 | sur\n",
      "Processing Record 7 of Set 7 | olga\n",
      "Processing Record 8 of Set 7 | egvekinot\n",
      "Processing Record 9 of Set 7 | tessalit\n",
      "Processing Record 10 of Set 7 | puerto penasco\n",
      "Processing Record 11 of Set 7 | north bend\n",
      "Processing Record 12 of Set 7 | rabaul\n",
      "Processing Record 13 of Set 7 | camacha\n",
      "Processing Record 14 of Set 7 | vardo\n",
      "Processing Record 15 of Set 7 | rochelle\n",
      "Processing Record 16 of Set 7 | olafsvik\n",
      "Processing Record 17 of Set 7 | dzhebariki-khaya\n",
      "Processing Record 18 of Set 7 | saskylakh\n",
      "Processing Record 19 of Set 7 | victoria\n",
      "City not found. Skipping to next...\n",
      "Processing Record 20 of Set 7 | guadalupe y calvo\n",
      "City not found. Skipping to next...\n",
      "Processing Record 21 of Set 7 | laguna\n",
      "Processing Record 22 of Set 7 | sinnamary\n",
      "Processing Record 23 of Set 7 | biharamulo\n",
      "Processing Record 24 of Set 7 | yerbogachen\n",
      "Processing Record 25 of Set 7 | port-gentil\n",
      "Processing Record 26 of Set 7 | cap malheureux\n",
      "Processing Record 27 of Set 7 | kalemie\n",
      "Processing Record 28 of Set 7 | teguise\n",
      "City not found. Skipping to next...\n",
      "Processing Record 29 of Set 7 | sayyan\n",
      "City not found. Skipping to next...\n",
      "Processing Record 30 of Set 7 | thinadhoo\n",
      "Processing Record 31 of Set 7 | college\n",
      "Processing Record 32 of Set 7 | sioux lookout\n",
      "Processing Record 33 of Set 7 | makakilo city\n",
      "City not found. Skipping to next...\n",
      "Processing Record 34 of Set 7 | kirakira\n",
      "Processing Record 35 of Set 7 | am timan\n",
      "Processing Record 36 of Set 7 | hays\n",
      "Processing Record 37 of Set 7 | sumbe\n",
      "Processing Record 38 of Set 7 | aguimes\n",
      "Processing Record 39 of Set 7 | swan hill\n",
      "Processing Record 40 of Set 7 | rehoboth\n",
      "Processing Record 41 of Set 7 | pangnirtung\n",
      "Processing Record 42 of Set 7 | sao sebastiao\n",
      "Processing Record 43 of Set 7 | caluquembe\n",
      "Processing Record 44 of Set 7 | nemuro\n",
      "Processing Record 45 of Set 7 | kasongo-lunda\n",
      "Processing Record 46 of Set 7 | okhotsk\n",
      "Processing Record 47 of Set 7 | homer\n",
      "Processing Record 48 of Set 7 | sebastian\n",
      "Processing Record 49 of Set 7 | cozma\n",
      "Processing Record 50 of Set 7 | zhuhai\n",
      "Processing Record 1 of Set 8 | miri\n",
      "Processing Record 2 of Set 8 | gejiu\n",
      "Processing Record 3 of Set 8 | porto novo\n",
      "Processing Record 4 of Set 8 | bom jesus da lapa\n",
      "Processing Record 5 of Set 8 | sitka\n",
      "Processing Record 6 of Set 8 | voyvozh\n",
      "City not found. Skipping to next...\n",
      "City not found. Skipping to next...\n",
      "Processing Record 7 of Set 8 | basoko\n",
      "Processing Record 8 of Set 8 | paciran\n",
      "Processing Record 9 of Set 8 | tubuala\n"
     ]
    },
    {
     "name": "stdout",
     "output_type": "stream",
     "text": [
      "Processing Record 10 of Set 8 | koscierzyna\n",
      "Processing Record 11 of Set 8 | domodossola\n",
      "Processing Record 12 of Set 8 | oudtshoorn\n",
      "Processing Record 13 of Set 8 | suntar\n",
      "Processing Record 14 of Set 8 | ardakan\n",
      "Processing Record 15 of Set 8 | westport\n",
      "Processing Record 16 of Set 8 | alberton\n",
      "Processing Record 17 of Set 8 | finnsnes\n",
      "Processing Record 18 of Set 8 | aksu\n",
      "Processing Record 19 of Set 8 | arman\n",
      "Processing Record 20 of Set 8 | lazo\n",
      "Processing Record 21 of Set 8 | tungor\n",
      "Processing Record 22 of Set 8 | vallam\n",
      "Processing Record 23 of Set 8 | cabra\n",
      "Processing Record 24 of Set 8 | zhanaozen\n",
      "Processing Record 25 of Set 8 | wajir\n",
      "Processing Record 26 of Set 8 | erenhot\n",
      "Processing Record 27 of Set 8 | bowen\n",
      "Processing Record 28 of Set 8 | atar\n",
      "Processing Record 29 of Set 8 | churapcha\n",
      "Processing Record 30 of Set 8 | richards bay\n",
      "Processing Record 31 of Set 8 | inongo\n",
      "Processing Record 32 of Set 8 | naze\n",
      "Processing Record 33 of Set 8 | bambanglipuro\n",
      "Processing Record 34 of Set 8 | belaya gora\n",
      "Processing Record 35 of Set 8 | pingxiang\n",
      "Processing Record 36 of Set 8 | dondo\n",
      "City not found. Skipping to next...\n",
      "Processing Record 37 of Set 8 | labrea\n",
      "City not found. Skipping to next...\n",
      "Processing Record 38 of Set 8 | diamantino\n",
      "Processing Record 39 of Set 8 | mariental\n",
      "Processing Record 40 of Set 8 | solnechnyy\n",
      "Processing Record 41 of Set 8 | jonkoping\n",
      "Processing Record 42 of Set 8 | imbituba\n",
      "Processing Record 43 of Set 8 | la ronge\n",
      "Processing Record 44 of Set 8 | pombas\n",
      "Processing Record 45 of Set 8 | fare\n",
      "Processing Record 46 of Set 8 | high rock\n",
      "City not found. Skipping to next...\n",
      "Processing Record 47 of Set 8 | akyab\n",
      "Processing Record 48 of Set 8 | inyonga\n",
      "Processing Record 49 of Set 8 | ormara\n",
      "Processing Record 50 of Set 8 | coahuayana\n",
      "Processing Record 1 of Set 9 | boa vista\n",
      "Processing Record 2 of Set 9 | mitu\n",
      "Processing Record 3 of Set 9 | muros\n",
      "Processing Record 4 of Set 9 | rio gallegos\n",
      "Processing Record 5 of Set 9 | ivdel\n",
      "Processing Record 6 of Set 9 | saint anthony\n",
      "City not found. Skipping to next...\n",
      "Processing Record 7 of Set 9 | half moon bay\n",
      "Processing Record 8 of Set 9 | bayan\n",
      "Processing Record 9 of Set 9 | santa isabel do rio negro\n",
      "Processing Record 10 of Set 9 | non thai\n",
      "Processing Record 11 of Set 9 | hinundayan\n",
      "Processing Record 12 of Set 9 | lhokseumawe\n",
      "Processing Record 13 of Set 9 | hualmay\n",
      "Processing Record 14 of Set 9 | alexandria\n",
      "Processing Record 15 of Set 9 | yulara\n",
      "Processing Record 16 of Set 9 | rheden\n",
      "Processing Record 17 of Set 9 | drabiv\n",
      "Processing Record 18 of Set 9 | camana\n",
      "Processing Record 19 of Set 9 | arrifes\n",
      "Processing Record 20 of Set 9 | katsuura\n",
      "Processing Record 21 of Set 9 | nizwa\n",
      "Processing Record 22 of Set 9 | gushikawa\n",
      "Processing Record 23 of Set 9 | sindor\n",
      "Processing Record 24 of Set 9 | bumiayu\n",
      "Processing Record 25 of Set 9 | rezh\n",
      "Processing Record 26 of Set 9 | razvilnoye\n",
      "Processing Record 27 of Set 9 | ornskoldsvik\n",
      "Processing Record 28 of Set 9 | tumpat\n",
      "Processing Record 29 of Set 9 | aitape\n",
      "Processing Record 30 of Set 9 | farafangana\n",
      "Processing Record 31 of Set 9 | zahnitkiv\n",
      "Processing Record 32 of Set 9 | port macquarie\n",
      "Processing Record 33 of Set 9 | bairiki\n",
      "Processing Record 34 of Set 9 | wloszczowa\n",
      "Processing Record 35 of Set 9 | bad salzungen\n",
      "Processing Record 36 of Set 9 | guilin\n",
      "Processing Record 37 of Set 9 | ambanja\n",
      "Processing Record 38 of Set 9 | mato verde\n",
      "Processing Record 39 of Set 9 | surgut\n",
      "Processing Record 40 of Set 9 | quatre cocos\n",
      "Processing Record 41 of Set 9 | bonavista\n",
      "Processing Record 42 of Set 9 | pasighat\n",
      "Processing Record 43 of Set 9 | mehamn\n",
      "Processing Record 44 of Set 9 | livingston\n",
      "Processing Record 45 of Set 9 | joensuu\n",
      "Processing Record 46 of Set 9 | perigueux\n",
      "Processing Record 47 of Set 9 | daloa\n",
      "City not found. Skipping to next...\n",
      "Processing Record 48 of Set 9 | beyneu\n",
      "Processing Record 49 of Set 9 | dakar\n",
      "Processing Record 50 of Set 9 | natchitoches\n",
      "Processing Record 1 of Set 10 | areka\n",
      "Processing Record 2 of Set 10 | pacific grove\n",
      "Processing Record 3 of Set 10 | hami\n",
      "Processing Record 4 of Set 10 | puri\n",
      "Processing Record 5 of Set 10 | oksfjord\n",
      "Processing Record 6 of Set 10 | prince george\n",
      "Processing Record 7 of Set 10 | hamilton\n",
      "Processing Record 8 of Set 10 | yumen\n",
      "Processing Record 9 of Set 10 | severnyy\n",
      "Processing Record 10 of Set 10 | sorland\n",
      "Processing Record 11 of Set 10 | potsdam\n",
      "Processing Record 12 of Set 10 | san cristobal\n",
      "Processing Record 13 of Set 10 | mustasaari\n",
      "Processing Record 14 of Set 10 | renukut\n",
      "Processing Record 15 of Set 10 | bulgan\n",
      "Processing Record 16 of Set 10 | abaza\n",
      "Processing Record 17 of Set 10 | lagoa\n",
      "Processing Record 18 of Set 10 | santa maria\n",
      "Processing Record 19 of Set 10 | new port richey\n",
      "Processing Record 20 of Set 10 | rafai\n",
      "Processing Record 21 of Set 10 | wukari\n",
      "Processing Record 22 of Set 10 | algiers\n",
      "Processing Record 23 of Set 10 | iskateley\n",
      "Processing Record 24 of Set 10 | ishigaki\n",
      "Processing Record 25 of Set 10 | laurel\n",
      "Processing Record 26 of Set 10 | mombaca\n",
      "City not found. Skipping to next...\n",
      "Processing Record 27 of Set 10 | westfield\n",
      "Processing Record 28 of Set 10 | zalantun\n",
      "Processing Record 29 of Set 10 | kruisfontein\n",
      "City not found. Skipping to next...\n",
      "Processing Record 30 of Set 10 | tual\n",
      "Processing Record 31 of Set 10 | wharton\n",
      "Processing Record 32 of Set 10 | abu samrah\n",
      "Processing Record 33 of Set 10 | terrace bay\n",
      "Processing Record 34 of Set 10 | berdigestyakh\n",
      "Processing Record 35 of Set 10 | altay\n",
      "Processing Record 36 of Set 10 | poum\n",
      "Processing Record 37 of Set 10 | puerto escondido\n",
      "Processing Record 38 of Set 10 | dingle\n",
      "Processing Record 39 of Set 10 | sitges\n",
      "Processing Record 40 of Set 10 | buraydah\n",
      "City not found. Skipping to next...\n",
      "Processing Record 41 of Set 10 | carinhanha\n",
      "Processing Record 42 of Set 10 | katobu\n",
      "Processing Record 43 of Set 10 | sao jose da coroa grande\n",
      "Processing Record 44 of Set 10 | faya\n",
      "Processing Record 45 of Set 10 | alice springs\n",
      "Processing Record 46 of Set 10 | chemnitz\n",
      "Processing Record 47 of Set 10 | port hueneme\n",
      "Processing Record 48 of Set 10 | ayan\n",
      "Processing Record 49 of Set 10 | roebourne\n",
      "Processing Record 50 of Set 10 | polewali\n",
      "Processing Record 1 of Set 11 | hay river\n",
      "Processing Record 2 of Set 11 | araouane\n",
      "Processing Record 3 of Set 11 | andilamena\n",
      "Processing Record 4 of Set 11 | ugoofaaru\n",
      "Processing Record 5 of Set 11 | comodoro rivadavia\n",
      "Processing Record 6 of Set 11 | san luis\n",
      "Processing Record 7 of Set 11 | burnie\n",
      "Processing Record 8 of Set 11 | komsomolskiy\n",
      "Processing Record 9 of Set 11 | huambo\n",
      "Processing Record 10 of Set 11 | antsohihy\n",
      "Processing Record 11 of Set 11 | nhulunbuy\n",
      "Processing Record 12 of Set 11 | caborca\n",
      "Processing Record 13 of Set 11 | kilindoni\n",
      "City not found. Skipping to next...\n",
      "Processing Record 14 of Set 11 | weiser\n",
      "Processing Record 15 of Set 11 | coquimbo\n",
      "Processing Record 16 of Set 11 | bellview\n",
      "Processing Record 17 of Set 11 | hukuntsi\n",
      "Processing Record 18 of Set 11 | port augusta\n",
      "Processing Record 19 of Set 11 | yar-sale\n",
      "Processing Record 20 of Set 11 | berezovyy\n",
      "City not found. Skipping to next...\n",
      "Processing Record 21 of Set 11 | mogadishu\n",
      "Processing Record 22 of Set 11 | dingzhou\n",
      "Processing Record 23 of Set 11 | reconquista\n",
      "Processing Record 24 of Set 11 | edson\n",
      "Processing Record 25 of Set 11 | isangel\n",
      "Processing Record 26 of Set 11 | chicama\n",
      "City not found. Skipping to next...\n",
      "Processing Record 27 of Set 11 | kuah\n",
      "Processing Record 28 of Set 11 | labelle\n",
      "Processing Record 29 of Set 11 | avera\n",
      "Processing Record 30 of Set 11 | tchamba\n",
      "Processing Record 31 of Set 11 | coihaique\n",
      "Processing Record 32 of Set 11 | petropavlovsk-kamchatskiy\n",
      "Processing Record 33 of Set 11 | dunshaughlin\n",
      "Processing Record 34 of Set 11 | tazovskiy\n",
      "Processing Record 35 of Set 11 | souillac\n",
      "Processing Record 36 of Set 11 | cangzhou\n",
      "Processing Record 37 of Set 11 | la rioja\n",
      "Processing Record 38 of Set 11 | waingapu\n",
      "Processing Record 39 of Set 11 | roma\n",
      "Processing Record 40 of Set 11 | aginskoye\n",
      "Processing Record 41 of Set 11 | mecca\n",
      "Processing Record 42 of Set 11 | sitrah\n",
      "Processing Record 43 of Set 11 | deputatskiy\n",
      "City not found. Skipping to next...\n",
      "City not found. Skipping to next...\n",
      "Processing Record 44 of Set 11 | henties bay\n",
      "Processing Record 45 of Set 11 | neiafu\n"
     ]
    },
    {
     "name": "stdout",
     "output_type": "stream",
     "text": [
      "Processing Record 46 of Set 11 | bismarck\n",
      "Processing Record 47 of Set 11 | tanggul\n",
      "Processing Record 48 of Set 11 | arica\n",
      "Processing Record 49 of Set 11 | jiangyou\n",
      "Processing Record 50 of Set 11 | xai-xai\n",
      "---------------------------------------\n",
      "Data Retrieval Complete\n",
      "---------------------------------------\n"
     ]
    }
   ],
   "source": [
    "#set starting URL for Weather Map API Call\n",
    "url = \"http://api.openweathermap.org/data/2.5/weather?units=Imperial&APPID=\" + weather_api_key\n",
    "\n",
    "#create lists for holding city data\n",
    "new_cities = []\n",
    "countries = []\n",
    "max_temps = []\n",
    "humidities = []\n",
    "cloudinesses = []\n",
    "wind_speeds = []\n",
    "dates = []\n",
    "lats = []\n",
    "lngs = []\n",
    "\n",
    "#print beginning of retrieval\n",
    "print(\"---------------------------------------\")\n",
    "print(\"Beginning Data Retrieval\")\n",
    "print(\"---------------------------------------\")\n",
    "\n",
    "#create counters\n",
    "counter = 0\n",
    "group = 1\n",
    "\n",
    "#loop through all the cities in our list\n",
    "for city in cities:\n",
    "\n",
    "    #try an API request for each of the cities\n",
    "    try:\n",
    "        #parse the JSON and retrieve data\n",
    "        response = requests.get(url + \"&q=\" + city).json()\n",
    "                \n",
    "        #parse out each piece of data we're looking for and append to lists\n",
    "        max_temps.append(response[\"main\"][\"temp_max\"])\n",
    "        humidities.append(response[\"main\"][\"humidity\"])\n",
    "        cloudinesses.append(response[\"clouds\"][\"all\"])\n",
    "        countries.append(response[\"sys\"][\"country\"])\n",
    "        wind_speeds.append(response[\"wind\"][\"speed\"])\n",
    "        dates.append(response[\"dt\"])\n",
    "        lats.append(response[\"coord\"][\"lat\"])\n",
    "        lngs.append(response[\"coord\"][\"lon\"])\n",
    "        \n",
    "        #create groups of 50, append cities to list, update counter value\n",
    "        if counter > 49:\n",
    "            counter = 1\n",
    "            group += 1\n",
    "            new_cities.append(city)\n",
    "        else:\n",
    "            counter += 1\n",
    "            new_cities.append(city)\n",
    "        \n",
    "        #print as records are processing\n",
    "        print(f\"Processing Record {counter} of Set {group} | {city}\")\n",
    "    \n",
    "    #if an error is experienced, skip the city\n",
    "    except:\n",
    "        print(\"City not found. Skipping to next...\")\n",
    "\n",
    "#indicate that data loading is complete \n",
    "print(\"---------------------------------------\")\n",
    "print(\"Data Retrieval Complete\")\n",
    "print(\"---------------------------------------\")"
   ]
  },
  {
   "cell_type": "markdown",
   "metadata": {},
   "source": [
    "### Convert Raw Data to DataFrame\n",
    "- Export the city data into a .csv.\n",
    "- Display the DataFrame"
   ]
  },
  {
   "cell_type": "code",
   "execution_count": 4,
   "metadata": {},
   "outputs": [],
   "source": [
    "#convert array of JSONs into DataFrame\n",
    "df_columns = {\"City\" : new_cities, \"Country\" : countries, \"Latitude\" : lats, \"Longitude\" : lngs, \n",
    "              \"Max Temperature\" : max_temps, \"Humidity\": humidities, \"Cloudiness\" : cloudinesses, \n",
    "              \"Wind Speed\" : wind_speeds, \"Date\" : dates}"
   ]
  },
  {
   "cell_type": "code",
   "execution_count": 5,
   "metadata": {},
   "outputs": [
    {
     "name": "stdout",
     "output_type": "stream",
     "text": [
      "550\n"
     ]
    },
    {
     "data": {
      "text/html": [
       "<div>\n",
       "<style scoped>\n",
       "    .dataframe tbody tr th:only-of-type {\n",
       "        vertical-align: middle;\n",
       "    }\n",
       "\n",
       "    .dataframe tbody tr th {\n",
       "        vertical-align: top;\n",
       "    }\n",
       "\n",
       "    .dataframe thead th {\n",
       "        text-align: right;\n",
       "    }\n",
       "</style>\n",
       "<table border=\"1\" class=\"dataframe\">\n",
       "  <thead>\n",
       "    <tr style=\"text-align: right;\">\n",
       "      <th></th>\n",
       "      <th>City</th>\n",
       "      <th>Country</th>\n",
       "      <th>Latitude</th>\n",
       "      <th>Longitude</th>\n",
       "      <th>Max Temperature</th>\n",
       "      <th>Humidity</th>\n",
       "      <th>Cloudiness</th>\n",
       "      <th>Wind Speed</th>\n",
       "      <th>Date</th>\n",
       "    </tr>\n",
       "  </thead>\n",
       "  <tbody>\n",
       "    <tr>\n",
       "      <th>0</th>\n",
       "      <td>hobart</td>\n",
       "      <td>AU</td>\n",
       "      <td>-42.88</td>\n",
       "      <td>147.33</td>\n",
       "      <td>46.40</td>\n",
       "      <td>70</td>\n",
       "      <td>75</td>\n",
       "      <td>6.93</td>\n",
       "      <td>1603654051</td>\n",
       "    </tr>\n",
       "    <tr>\n",
       "      <th>1</th>\n",
       "      <td>albany</td>\n",
       "      <td>US</td>\n",
       "      <td>42.60</td>\n",
       "      <td>-73.97</td>\n",
       "      <td>48.99</td>\n",
       "      <td>43</td>\n",
       "      <td>0</td>\n",
       "      <td>5.39</td>\n",
       "      <td>1603654347</td>\n",
       "    </tr>\n",
       "    <tr>\n",
       "      <th>2</th>\n",
       "      <td>puerto leguizamo</td>\n",
       "      <td>CO</td>\n",
       "      <td>-0.19</td>\n",
       "      <td>-74.78</td>\n",
       "      <td>92.91</td>\n",
       "      <td>49</td>\n",
       "      <td>99</td>\n",
       "      <td>1.23</td>\n",
       "      <td>1603654348</td>\n",
       "    </tr>\n",
       "    <tr>\n",
       "      <th>3</th>\n",
       "      <td>mar del plata</td>\n",
       "      <td>AR</td>\n",
       "      <td>-38.00</td>\n",
       "      <td>-57.56</td>\n",
       "      <td>63.00</td>\n",
       "      <td>100</td>\n",
       "      <td>90</td>\n",
       "      <td>3.36</td>\n",
       "      <td>1603654271</td>\n",
       "    </tr>\n",
       "    <tr>\n",
       "      <th>4</th>\n",
       "      <td>yellowknife</td>\n",
       "      <td>CA</td>\n",
       "      <td>62.46</td>\n",
       "      <td>-114.35</td>\n",
       "      <td>28.40</td>\n",
       "      <td>74</td>\n",
       "      <td>75</td>\n",
       "      <td>8.05</td>\n",
       "      <td>1603654273</td>\n",
       "    </tr>\n",
       "  </tbody>\n",
       "</table>\n",
       "</div>"
      ],
      "text/plain": [
       "               City Country  Latitude  Longitude  Max Temperature  Humidity  \\\n",
       "0            hobart      AU    -42.88     147.33            46.40        70   \n",
       "1            albany      US     42.60     -73.97            48.99        43   \n",
       "2  puerto leguizamo      CO     -0.19     -74.78            92.91        49   \n",
       "3     mar del plata      AR    -38.00     -57.56            63.00       100   \n",
       "4       yellowknife      CA     62.46    -114.35            28.40        74   \n",
       "\n",
       "   Cloudiness  Wind Speed        Date  \n",
       "0          75        6.93  1603654051  \n",
       "1           0        5.39  1603654347  \n",
       "2          99        1.23  1603654348  \n",
       "3          90        3.36  1603654271  \n",
       "4          75        8.05  1603654273  "
      ]
     },
     "execution_count": 5,
     "metadata": {},
     "output_type": "execute_result"
    }
   ],
   "source": [
    "#show record count and display the City DataFrame\n",
    "city_df = pd.DataFrame.from_dict(df_columns)\n",
    "print(city_df[\"City\"].count())\n",
    "city_df.head()"
   ]
  },
  {
   "cell_type": "code",
   "execution_count": 6,
   "metadata": {},
   "outputs": [],
   "source": [
    "#export to csv\n",
    "city_df.to_csv(path_or_buf = \"output_files/city_data.csv\")"
   ]
  },
  {
   "cell_type": "markdown",
   "metadata": {},
   "source": [
    "### Inspect the data and remove the cities where the humidity > 100%.\n",
    "\n",
    "- Skip this step if there are no cities that have humidity > 100%."
   ]
  },
  {
   "cell_type": "code",
   "execution_count": 7,
   "metadata": {},
   "outputs": [
    {
     "data": {
      "text/plain": [
       "City                 zyryanka\n",
       "Country                    ZM\n",
       "Latitude                78.22\n",
       "Longitude              179.32\n",
       "Max Temperature           104\n",
       "Humidity                  100\n",
       "Cloudiness                100\n",
       "Wind Speed              40.26\n",
       "Date               1603654521\n",
       "dtype: object"
      ]
     },
     "execution_count": 7,
     "metadata": {},
     "output_type": "execute_result"
    }
   ],
   "source": [
    "#check if max humidity is over 100\n",
    "city_df.max()"
   ]
  },
  {
   "cell_type": "markdown",
   "metadata": {},
   "source": [
    "### Latitude vs. Temperature Plot"
   ]
  },
  {
   "cell_type": "code",
   "execution_count": 8,
   "metadata": {},
   "outputs": [
    {
     "data": {
      "image/png": "[encoded data removed]",
      "text/plain": [
       "<Figure size 432x288 with 1 Axes>"
      ]
     },
     "metadata": {
      "needs_background": "light"
     },
     "output_type": "display_data"
    }
   ],
   "source": [
    "#build scatter plot for latitude vs. temperature\n",
    "lat_temp = plt.scatter(city_df[\"Latitude\"], city_df[\"Max Temperature\"])\n",
    "\n",
    "#get today's date\n",
    "from datetime import date\n",
    "today = date.today() \n",
    "\n",
    "#incorporate other graph properties\n",
    "plt.title(f\"Latitude vs. Temperature ({today})\")\n",
    "plt.xlabel(\"Latitude\")\n",
    "plt.ylabel(\"Temperature\")\n",
    "\n",
    "#save the figure as png\n",
    "plt.savefig(\"output_files/lat_temp.png\")\n",
    "\n",
    "#show plot\n",
    "plt.show()"
   ]
  },
  {
   "cell_type": "markdown",
   "metadata": {},
   "source": [
    "### Latitude vs. Humidity Plot"
   ]
  },
  {
   "cell_type": "code",
   "execution_count": 9,
   "metadata": {},
   "outputs": [
    {
     "data": {
      "image/png": "[encoded data removed]",
      "text/plain": [
       "<Figure size 432x288 with 1 Axes>"
      ]
     },
     "metadata": {
      "needs_background": "light"
     },
     "output_type": "display_data"
    }
   ],
   "source": [
    "#build scatter plot for latitude vs. humidity\n",
    "lat_humid = plt.scatter(city_df[\"Latitude\"], city_df[\"Humidity\"])\n",
    "\n",
    "#get today's date\n",
    "from datetime import date\n",
    "today = date.today() \n",
    "\n",
    "#incorporate other graph properties\n",
    "plt.title(f\"Latitude vs. Humidity ({today})\")\n",
    "plt.xlabel(\"Latitude\")\n",
    "plt.ylabel(\"Humidity\")\n",
    "\n",
    "#save the figure as png\n",
    "plt.savefig(\"output_files/lat_humid.png\")\n",
    "\n",
    "#show plot\n",
    "plt.show()"
   ]
  },
  {
   "cell_type": "markdown",
   "metadata": {},
   "source": [
    "### Latitude vs. Cloudiness Plot"
   ]
  },
  {
   "cell_type": "code",
   "execution_count": 10,
   "metadata": {},
   "outputs": [
    {
     "data": {
      "image/png": "[encoded data removed]",
      "text/plain": [
       "<Figure size 432x288 with 1 Axes>"
      ]
     },
     "metadata": {
      "needs_background": "light"
     },
     "output_type": "display_data"
    }
   ],
   "source": [
    "#build scatter plot for latitude vs. cloudiness\n",
    "lat_cloud = plt.scatter(city_df[\"Latitude\"], city_df[\"Cloudiness\"])\n",
    "\n",
    "#get today's date\n",
    "from datetime import date\n",
    "today = date.today() \n",
    "\n",
    "#incorporate other graph properties\n",
    "plt.title(f\"Latitude vs. Cloudiness ({today})\")\n",
    "plt.xlabel(\"Latitude\")\n",
    "plt.ylabel(\"Cloudiness\")\n",
    "\n",
    "#save the figure as png\n",
    "plt.savefig(\"output_files/lat_cloudy.png\")\n",
    "\n",
    "#show plot\n",
    "plt.show()"
   ]
  },
  {
   "cell_type": "markdown",
   "metadata": {},
   "source": [
    "### Latitude vs. Wind Speed Plot"
   ]
  },
  {
   "cell_type": "code",
   "execution_count": 11,
   "metadata": {},
   "outputs": [
    {
     "data": {
      "image/png": "[encoded data removed]",
      "text/plain": [
       "<Figure size 432x288 with 1 Axes>"
      ]
     },
     "metadata": {
      "needs_background": "light"
     },
     "output_type": "display_data"
    }
   ],
   "source": [
    "#build scatter plot for latitude vs. wind speed\n",
    "lat_wind = plt.scatter(city_df[\"Latitude\"], city_df[\"Wind Speed\"])\n",
    "\n",
    "#get today's date\n",
    "from datetime import date\n",
    "today = date.today() \n",
    "\n",
    "#incorporate other graph properties\n",
    "plt.title(f\"Latitude vs. Wind Speed ({today})\")\n",
    "plt.xlabel(\"Latitude\")\n",
    "plt.ylabel(\"Wind Speed\")\n",
    "\n",
    "#save the figure as png\n",
    "plt.savefig(\"output_files/lat_wind.png\")\n",
    "\n",
    "#show plot\n",
    "plt.show()"
   ]
  },
  {
   "cell_type": "markdown",
   "metadata": {},
   "source": [
    "### Linear Regression"
   ]
  },
  {
   "cell_type": "code",
   "execution_count": 28,
   "metadata": {},
   "outputs": [],
   "source": [
    "# Create a function to create Linear Regression plots\n",
    "def linreg(x_values, y_values):  \n",
    "    (slope, intercept, rvalue, pvalue, stderr) = linregress(x_values, y_values)\n",
    "    regress_values = x_values * slope + intercept\n",
    "    line_eq = \"y = \" + str(round(slope,2)) + \"x + \" + str(round(intercept,2))\n",
    "    print(f\"The r-value is: {rvalue}\")\n",
    "    plt.scatter(x_values, y_values)\n",
    "    plt.plot(x_values,regress_values,\"r-\")\n",
    "    plt.annotate(line_eq,(6,10),fontsize=15,color=\"red\")"
   ]
  },
  {
   "cell_type": "code",
   "execution_count": 25,
   "metadata": {},
   "outputs": [
    {
     "data": {
      "text/html": [
       "<div>\n",
       "<style scoped>\n",
       "    .dataframe tbody tr th:only-of-type {\n",
       "        vertical-align: middle;\n",
       "    }\n",
       "\n",
       "    .dataframe tbody tr th {\n",
       "        vertical-align: top;\n",
       "    }\n",
       "\n",
       "    .dataframe thead th {\n",
       "        text-align: right;\n",
       "    }\n",
       "</style>\n",
       "<table border=\"1\" class=\"dataframe\">\n",
       "  <thead>\n",
       "    <tr style=\"text-align: right;\">\n",
       "      <th></th>\n",
       "      <th>City</th>\n",
       "      <th>Country</th>\n",
       "      <th>Latitude</th>\n",
       "      <th>Longitude</th>\n",
       "      <th>Max Temperature</th>\n",
       "      <th>Humidity</th>\n",
       "      <th>Cloudiness</th>\n",
       "      <th>Wind Speed</th>\n",
       "      <th>Date</th>\n",
       "    </tr>\n",
       "  </thead>\n",
       "  <tbody>\n",
       "    <tr>\n",
       "      <th>1</th>\n",
       "      <td>albany</td>\n",
       "      <td>US</td>\n",
       "      <td>42.60</td>\n",
       "      <td>-73.97</td>\n",
       "      <td>48.99</td>\n",
       "      <td>43</td>\n",
       "      <td>0</td>\n",
       "      <td>5.39</td>\n",
       "      <td>1603654347</td>\n",
       "    </tr>\n",
       "    <tr>\n",
       "      <th>4</th>\n",
       "      <td>yellowknife</td>\n",
       "      <td>CA</td>\n",
       "      <td>62.46</td>\n",
       "      <td>-114.35</td>\n",
       "      <td>28.40</td>\n",
       "      <td>74</td>\n",
       "      <td>75</td>\n",
       "      <td>8.05</td>\n",
       "      <td>1603654273</td>\n",
       "    </tr>\n",
       "    <tr>\n",
       "      <th>8</th>\n",
       "      <td>ketchikan</td>\n",
       "      <td>US</td>\n",
       "      <td>55.34</td>\n",
       "      <td>-131.65</td>\n",
       "      <td>37.40</td>\n",
       "      <td>93</td>\n",
       "      <td>90</td>\n",
       "      <td>13.87</td>\n",
       "      <td>1603654349</td>\n",
       "    </tr>\n",
       "    <tr>\n",
       "      <th>10</th>\n",
       "      <td>hilo</td>\n",
       "      <td>US</td>\n",
       "      <td>19.73</td>\n",
       "      <td>-155.09</td>\n",
       "      <td>82.40</td>\n",
       "      <td>74</td>\n",
       "      <td>40</td>\n",
       "      <td>5.82</td>\n",
       "      <td>1603654239</td>\n",
       "    </tr>\n",
       "    <tr>\n",
       "      <th>12</th>\n",
       "      <td>jamestown</td>\n",
       "      <td>US</td>\n",
       "      <td>42.10</td>\n",
       "      <td>-79.24</td>\n",
       "      <td>46.00</td>\n",
       "      <td>63</td>\n",
       "      <td>90</td>\n",
       "      <td>10.29</td>\n",
       "      <td>1603654346</td>\n",
       "    </tr>\n",
       "    <tr>\n",
       "      <th>...</th>\n",
       "      <td>...</td>\n",
       "      <td>...</td>\n",
       "      <td>...</td>\n",
       "      <td>...</td>\n",
       "      <td>...</td>\n",
       "      <td>...</td>\n",
       "      <td>...</td>\n",
       "      <td>...</td>\n",
       "      <td>...</td>\n",
       "    </tr>\n",
       "    <tr>\n",
       "      <th>540</th>\n",
       "      <td>mecca</td>\n",
       "      <td>SA</td>\n",
       "      <td>21.43</td>\n",
       "      <td>39.83</td>\n",
       "      <td>78.21</td>\n",
       "      <td>71</td>\n",
       "      <td>0</td>\n",
       "      <td>2.95</td>\n",
       "      <td>1603654510</td>\n",
       "    </tr>\n",
       "    <tr>\n",
       "      <th>541</th>\n",
       "      <td>sitrah</td>\n",
       "      <td>BH</td>\n",
       "      <td>26.15</td>\n",
       "      <td>50.62</td>\n",
       "      <td>82.40</td>\n",
       "      <td>65</td>\n",
       "      <td>5</td>\n",
       "      <td>4.70</td>\n",
       "      <td>1603654519</td>\n",
       "    </tr>\n",
       "    <tr>\n",
       "      <th>542</th>\n",
       "      <td>deputatskiy</td>\n",
       "      <td>RU</td>\n",
       "      <td>69.30</td>\n",
       "      <td>139.90</td>\n",
       "      <td>5.32</td>\n",
       "      <td>89</td>\n",
       "      <td>2</td>\n",
       "      <td>6.22</td>\n",
       "      <td>1603654519</td>\n",
       "    </tr>\n",
       "    <tr>\n",
       "      <th>545</th>\n",
       "      <td>bismarck</td>\n",
       "      <td>US</td>\n",
       "      <td>46.81</td>\n",
       "      <td>-100.78</td>\n",
       "      <td>21.99</td>\n",
       "      <td>79</td>\n",
       "      <td>75</td>\n",
       "      <td>16.11</td>\n",
       "      <td>1603654520</td>\n",
       "    </tr>\n",
       "    <tr>\n",
       "      <th>548</th>\n",
       "      <td>jiangyou</td>\n",
       "      <td>CN</td>\n",
       "      <td>31.77</td>\n",
       "      <td>104.72</td>\n",
       "      <td>61.84</td>\n",
       "      <td>71</td>\n",
       "      <td>58</td>\n",
       "      <td>0.83</td>\n",
       "      <td>1603654521</td>\n",
       "    </tr>\n",
       "  </tbody>\n",
       "</table>\n",
       "<p>365 rows × 9 columns</p>\n",
       "</div>"
      ],
      "text/plain": [
       "            City Country  Latitude  Longitude  Max Temperature  Humidity  \\\n",
       "1         albany      US     42.60     -73.97            48.99        43   \n",
       "4    yellowknife      CA     62.46    -114.35            28.40        74   \n",
       "8      ketchikan      US     55.34    -131.65            37.40        93   \n",
       "10          hilo      US     19.73    -155.09            82.40        74   \n",
       "12     jamestown      US     42.10     -79.24            46.00        63   \n",
       "..           ...     ...       ...        ...              ...       ...   \n",
       "540        mecca      SA     21.43      39.83            78.21        71   \n",
       "541       sitrah      BH     26.15      50.62            82.40        65   \n",
       "542  deputatskiy      RU     69.30     139.90             5.32        89   \n",
       "545     bismarck      US     46.81    -100.78            21.99        79   \n",
       "548     jiangyou      CN     31.77     104.72            61.84        71   \n",
       "\n",
       "     Cloudiness  Wind Speed        Date  \n",
       "1             0        5.39  1603654347  \n",
       "4            75        8.05  1603654273  \n",
       "8            90       13.87  1603654349  \n",
       "10           40        5.82  1603654239  \n",
       "12           90       10.29  1603654346  \n",
       "..          ...         ...         ...  \n",
       "540           0        2.95  1603654510  \n",
       "541           5        4.70  1603654519  \n",
       "542           2        6.22  1603654519  \n",
       "545          75       16.11  1603654520  \n",
       "548          58        0.83  1603654521  \n",
       "\n",
       "[365 rows x 9 columns]"
      ]
     },
     "execution_count": 25,
     "metadata": {},
     "output_type": "execute_result"
    }
   ],
   "source": [
    "# Create Northern and Southern Hemisphere DataFrames\n",
    "n_hem = city_df.loc[(city_df[\"Latitude\"] > 0)]\n",
    "s_hem = city_df.loc[(city_df[\"Latitude\"] < 0)]"
   ]
  },
  {
   "cell_type": "markdown",
   "metadata": {},
   "source": [
    "### Max Temp vs. Latitude Linear Regression"
   ]
  },
  {
   "cell_type": "code",
   "execution_count": 29,
   "metadata": {
    "scrolled": true
   },
   "outputs": [
    {
     "name": "stdout",
     "output_type": "stream",
     "text": [
      "The r-value is: -0.8833601185291405\n"
     ]
    },
    {
     "data": {
      "image/png": "[encoded data removed]",
      "text/plain": [
       "<Figure size 432x288 with 1 Axes>"
      ]
     },
     "metadata": {
      "needs_background": "light"
     },
     "output_type": "display_data"
    }
   ],
   "source": [
    "# Linear regression on Northern Hemisphere\n",
    "linreg(n_hem[\"Max Temperature\"], n_hem[\"Latitude\"])"
   ]
  },
  {
   "cell_type": "code",
   "execution_count": 30,
   "metadata": {},
   "outputs": [
    {
     "name": "stdout",
     "output_type": "stream",
     "text": [
      "The r-value is: 0.6917945875679732\n"
     ]
    },
    {
     "data": {
      "image/png": "[encoded data removed]",
      "text/plain": [
       "<Figure size 432x288 with 1 Axes>"
      ]
     },
     "metadata": {
      "needs_background": "light"
     },
     "output_type": "display_data"
    }
   ],
   "source": [
    "# Linear regression on Southern Hemisphere\n",
    "linreg(s_hem[\"Max Temperature\"], s_hem[\"Latitude\"])"
   ]
  },
  {
   "cell_type": "markdown",
   "metadata": {},
   "source": [
    "### Humidity (%) vs. Latitude Linear Regression"
   ]
  },
  {
   "cell_type": "code",
   "execution_count": 32,
   "metadata": {},
   "outputs": [
    {
     "name": "stdout",
     "output_type": "stream",
     "text": [
      "The r-value is: 0.33262443622985427\n"
     ]
    },
    {
     "data": {
      "image/png": "[encoded data removed]",
      "text/plain": [
       "<Figure size 432x288 with 1 Axes>"
      ]
     },
     "metadata": {
      "needs_background": "light"
     },
     "output_type": "display_data"
    }
   ],
   "source": [
    "# Northern Hemisphere\n",
    "linreg(n_hem[\"Humidity\"], n_hem[\"Latitude\"])"
   ]
  },
  {
   "cell_type": "code",
   "execution_count": 33,
   "metadata": {},
   "outputs": [
    {
     "name": "stdout",
     "output_type": "stream",
     "text": [
      "The r-value is: 0.025088431388021675\n"
     ]
    },
    {
     "data": {
      "image/png": "[encoded data removed]",
      "text/plain": [
       "<Figure size 432x288 with 1 Axes>"
      ]
     },
     "metadata": {
      "needs_background": "light"
     },
     "output_type": "display_data"
    }
   ],
   "source": [
    "# Southern Hemisphere\n",
    "linreg(s_hem[\"Humidity\"], s_hem[\"Latitude\"])"
   ]
  },
  {
   "cell_type": "markdown",
   "metadata": {},
   "source": [
    "### Cloudiness (%) vs. Latitude Linear Regression"
   ]
  },
  {
   "cell_type": "code",
   "execution_count": 34,
   "metadata": {},
   "outputs": [
    {
     "name": "stdout",
     "output_type": "stream",
     "text": [
      "The r-value is: 0.18999223701628837\n"
     ]
    },
    {
     "data": {
      "image/png": "[encoded data removed]",
      "text/plain": [
       "<Figure size 432x288 with 1 Axes>"
      ]
     },
     "metadata": {
      "needs_background": "light"
     },
     "output_type": "display_data"
    }
   ],
   "source": [
    "# Northern Hemisphere\n",
    "linreg(n_hem[\"Cloudiness\"], n_hem[\"Latitude\"])"
   ]
  },
  {
   "cell_type": "code",
   "execution_count": 35,
   "metadata": {},
   "outputs": [
    {
     "name": "stdout",
     "output_type": "stream",
     "text": [
      "The r-value is: 0.14446201616167112\n"
     ]
    },
    {
     "data": {
      "image/png": "[encoded data removed]",
      "text/plain": [
       "<Figure size 432x288 with 1 Axes>"
      ]
     },
     "metadata": {
      "needs_background": "light"
     },
     "output_type": "display_data"
    }
   ],
   "source": [
    "# Southern Hemisphere\n",
    "linreg(s_hem[\"Cloudiness\"], s_hem[\"Latitude\"])"
   ]
  },
  {
   "cell_type": "markdown",
   "metadata": {},
   "source": [
    "### Wind Speed (mph) vs. Latitude Linear Regression"
   ]
  },
  {
   "cell_type": "code",
   "execution_count": 36,
   "metadata": {},
   "outputs": [
    {
     "name": "stdout",
     "output_type": "stream",
     "text": [
      "The r-value is: 0.18627777183619496\n"
     ]
    },
    {
     "data": {
      "image/png": "[encoded data removed]",
      "text/plain": [
       "<Figure size 432x288 with 1 Axes>"
      ]
     },
     "metadata": {
      "needs_background": "light"
     },
     "output_type": "display_data"
    }
   ],
   "source": [
    "# Northern Hemisphere\n",
    "linreg(n_hem[\"Wind Speed\"], n_hem[\"Latitude\"])"
   ]
  },
  {
   "cell_type": "code",
   "execution_count": 37,
   "metadata": {},
   "outputs": [
    {
     "name": "stdout",
     "output_type": "stream",
     "text": [
      "The r-value is: -0.17530668732715243\n"
     ]
    },
    {
     "data": {
      "image/png": "[encoded data removed]",
      "text/plain": [
       "<Figure size 432x288 with 1 Axes>"
      ]
     },
     "metadata": {
      "needs_background": "light"
     },
     "output_type": "display_data"
    }
   ],
   "source": [
    "# Southern Hemisphere\n",
    "linreg(s_hem[\"Wind Speed\"], s_hem[\"Latitude\"])"
   ]
  },
  {
   "cell_type": "code",
   "execution_count": null,
   "metadata": {},
   "outputs": [],
   "source": []
  }
 ],
 "metadata": {
  "kernelspec": {
   "display_name": "Python 3",
   "language": "python",
   "name": "python3"
  },
  "language_info": {
   "codemirror_mode": {
    "name": "ipython",
    "version": 3
   },
   "file_extension": ".py",
   "mimetype": "text/x-python",
   "name": "python",
   "nbconvert_exporter": "python",
   "pygments_lexer": "ipython3",
   "version": "3.7.6"
  }
 },
 "nbformat": 4,
 "nbformat_minor": 4
}
